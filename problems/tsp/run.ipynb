{
 "cells": [
  {
   "cell_type": "code",
   "execution_count": 2,
   "metadata": {},
   "outputs": [
    {
     "name": "stdout",
     "output_type": "stream",
     "text": [
      "50_42_1 best cost: 5.60396365188844\n",
      "50_42_2 best cost: 5.823157437665455\n",
      "50_42_3 best cost: 6.125143291344298\n",
      "50_42_4 best cost: 6.163761404244724\n",
      "50_42_5 best cost: 5.806624919532769\n",
      "Average best cost: 5.904530140935138\n"
     ]
    }
   ],
   "source": [
    "import numpy as np\n",
    "from aco import ACO_TSP\n",
    "\n",
    "total_cost = 0\n",
    "\n",
    "for i in range(1, 6):\n",
    "\tdistances = np.load(f'tsp_datasets/50_42_{i}.npy')\n",
    "\taco = ACO_TSP(distances)\n",
    "\tbest_cost = aco.run()\n",
    "\ttotal_cost += best_cost\n",
    "\tprint(f'50_42_{i} best cost: {best_cost}')\n",
    "\n",
    "print(f'Average best cost: {total_cost / 5}')"
   ]
  }
 ],
 "metadata": {
  "kernelspec": {
   "display_name": "env",
   "language": "python",
   "name": "python3"
  },
  "language_info": {
   "codemirror_mode": {
    "name": "ipython",
    "version": 3
   },
   "file_extension": ".py",
   "mimetype": "text/x-python",
   "name": "python",
   "nbconvert_exporter": "python",
   "pygments_lexer": "ipython3",
   "version": "3.12.0"
  }
 },
 "nbformat": 4,
 "nbformat_minor": 2
}
