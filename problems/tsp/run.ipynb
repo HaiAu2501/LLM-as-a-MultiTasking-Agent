{
 "cells": [
  {
   "cell_type": "code",
   "execution_count": null,
   "metadata": {},
   "outputs": [
    {
     "name": "stdout",
     "output_type": "stream",
     "text": [
      "50_42_1 best cost: 5.613364758579659\n",
      "50_42_2 best cost: 5.818132417299206\n",
      "50_42_3 best cost: 6.220385733775926\n",
      "50_42_4 best cost: 5.997079853510893\n",
      "50_42_5 best cost: 5.8157473347796484\n"
     ]
    }
   ],
   "source": [
    "import numpy as np\n",
    "from aco import ACO_TSP\n",
    "\n",
    "total_cost = 0\n",
    "\n",
    "for i in range(1, 6):\n",
    "\tdistances = np.load(f'tsp_datasets/50_42_{i}.npy')\n",
    "\taco = ACO_TSP(distances)\n",
    "\tbest_cost = aco.run()\n",
    "\ttotal_cost += best_cost\n",
    "\tprint(f'50_42_{i} best cost: {best_cost}')\n",
    "\n",
    "print(f'Average best cost: {total_cost / 5}')"
   ]
  }
 ],
 "metadata": {
  "kernelspec": {
   "display_name": "env",
   "language": "python",
   "name": "python3"
  },
  "language_info": {
   "codemirror_mode": {
    "name": "ipython",
    "version": 3
   },
   "file_extension": ".py",
   "mimetype": "text/x-python",
   "name": "python",
   "nbconvert_exporter": "python",
   "pygments_lexer": "ipython3",
   "version": "3.12.0"
  }
 },
 "nbformat": 4,
 "nbformat_minor": 2
}
